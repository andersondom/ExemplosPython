{
 "cells": [
  {
   "cell_type": "markdown",
   "metadata": {},
   "source": [
    "# Projeto Python IA: Inteligência Artificial e Previsões\n",
    "\n",
    "### Case: Score de Crédito dos Clientes\n",
    "\n",
    "Você foi contratado por um banco para conseguir definir o score de crédito dos clientes. Você precisa analisar todos os clientes do banco e, com base nessa análise, criar um modelo que consiga ler as informações do cliente e dizer automaticamente o score de crédito dele: Ruim, Ok, Bom\n",
    "\n",
    "Arquivos da aula: https://drive.google.com/drive/folders/1FbDqVq4XLvU85VBlVIMJ73p9oOu6u2-J?usp=drive_link"
   ]
  },
  {
   "cell_type": "code",
   "execution_count": null,
   "metadata": {},
   "outputs": [],
   "source": [
    "# !pip install pandas numpy Scikit-learn\n",
    "# Passo a Passo\n",
    "# Passo 0 - Entender o desafio da empresa\n",
    "\n"
   ]
  },
  {
   "cell_type": "code",
   "execution_count": 2,
   "metadata": {},
   "outputs": [
    {
     "ename": "NameError",
     "evalue": "name 'clientes' is not defined",
     "output_type": "error",
     "traceback": [
      "\u001b[1;31m---------------------------------------------------------------------------\u001b[0m",
      "\u001b[1;31mNameError\u001b[0m                                 Traceback (most recent call last)",
      "\u001b[1;32mc:\\Temp\\Python\\Aula 3\\inicial.ipynb Célula 3\u001b[0m line \u001b[0;36m4\n\u001b[0;32m      <a href='vscode-notebook-cell:/c%3A/Temp/Python/Aula%203/inicial.ipynb#W2sZmlsZQ%3D%3D?line=0'>1</a>\u001b[0m \u001b[39m# Passo 1 - Importar a base de dados\u001b[39;00m\n\u001b[0;32m      <a href='vscode-notebook-cell:/c%3A/Temp/Python/Aula%203/inicial.ipynb#W2sZmlsZQ%3D%3D?line=1'>2</a>\u001b[0m \u001b[39mimport\u001b[39;00m \u001b[39mpandas\u001b[39;00m \u001b[39mas\u001b[39;00m \u001b[39mpd\u001b[39;00m\n\u001b[1;32m----> <a href='vscode-notebook-cell:/c%3A/Temp/Python/Aula%203/inicial.ipynb#W2sZmlsZQ%3D%3D?line=3'>4</a>\u001b[0m tabela \u001b[39m=\u001b[39m pd\u001b[39m.\u001b[39mread_csv(clientes\u001b[39m.\u001b[39mcsv)\n\u001b[0;32m      <a href='vscode-notebook-cell:/c%3A/Temp/Python/Aula%203/inicial.ipynb#W2sZmlsZQ%3D%3D?line=4'>5</a>\u001b[0m \u001b[39mprint\u001b[39m(tabela)\n\u001b[0;32m      <a href='vscode-notebook-cell:/c%3A/Temp/Python/Aula%203/inicial.ipynb#W2sZmlsZQ%3D%3D?line=6'>7</a>\u001b[0m \u001b[39m# verificar se a gente tem algum valor vazio\u001b[39;00m\n",
      "\u001b[1;31mNameError\u001b[0m: name 'clientes' is not defined"
     ]
    }
   ],
   "source": [
    "# Passo 1 - Importar a base de dados\n",
    "import pandas as pd\n",
    "\n",
    "tabela = pd.read_csv(clientes.csv)\n",
    "display(tabela)\n",
    "\n",
    "# verificar se a gente tem algum valor vazio\n",
    "display(tabela.info)"
   ]
  },
  {
   "cell_type": "code",
   "execution_count": null,
   "metadata": {},
   "outputs": [],
   "source": [
    "# Passo 2 - Preparar a base de dados para a inteligência artificial\n",
    "# Passo 3 - Criar o modelo de IA -> Score de Crédito: Good (Bom), Standard (Médio), Poor (Ruim)\n",
    "# Passo 4 - Escolher o melhor modelo\n",
    "# Passo 5 - Fazer novas previsões"
   ]
  }
 ],
 "metadata": {
  "kernelspec": {
   "display_name": "Python 3",
   "language": "python",
   "name": "python3"
  },
  "language_info": {
   "codemirror_mode": {
    "name": "ipython",
    "version": 3
   },
   "file_extension": ".py",
   "mimetype": "text/x-python",
   "name": "python",
   "nbconvert_exporter": "python",
   "pygments_lexer": "ipython3",
   "version": "3.11.5"
  },
  "orig_nbformat": 4
 },
 "nbformat": 4,
 "nbformat_minor": 2
}
